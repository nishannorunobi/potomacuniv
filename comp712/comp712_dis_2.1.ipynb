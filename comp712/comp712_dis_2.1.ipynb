{
 "cells": [
  {
   "cell_type": "code",
   "execution_count": 1,
   "id": "b251f31c-4e11-48f5-84ba-e875f4fdbd6d",
   "metadata": {},
   "outputs": [
    {
     "name": "stdout",
     "output_type": "stream",
     "text": [
      "Collecting fastapi\n",
      "  Downloading fastapi-0.116.1-py3-none-any.whl.metadata (28 kB)\n",
      "Collecting uvicorn\n",
      "  Downloading uvicorn-0.35.0-py3-none-any.whl.metadata (6.5 kB)\n",
      "Collecting starlette<0.48.0,>=0.40.0 (from fastapi)\n",
      "  Downloading starlette-0.47.3-py3-none-any.whl.metadata (6.2 kB)\n",
      "Requirement already satisfied: pydantic!=1.8,!=1.8.1,!=2.0.0,!=2.0.1,!=2.1.0,<3.0.0,>=1.7.4 in /home/nishan/workspaces/myenv/lib/python3.12/site-packages (from fastapi) (2.11.7)\n",
      "Requirement already satisfied: typing-extensions>=4.8.0 in /home/nishan/workspaces/myenv/lib/python3.12/site-packages (from fastapi) (4.15.0)\n",
      "Collecting click>=7.0 (from uvicorn)\n",
      "  Downloading click-8.2.1-py3-none-any.whl.metadata (2.5 kB)\n",
      "Requirement already satisfied: h11>=0.8 in /home/nishan/workspaces/myenv/lib/python3.12/site-packages (from uvicorn) (0.16.0)\n",
      "Requirement already satisfied: annotated-types>=0.6.0 in /home/nishan/workspaces/myenv/lib/python3.12/site-packages (from pydantic!=1.8,!=1.8.1,!=2.0.0,!=2.0.1,!=2.1.0,<3.0.0,>=1.7.4->fastapi) (0.7.0)\n",
      "Requirement already satisfied: pydantic-core==2.33.2 in /home/nishan/workspaces/myenv/lib/python3.12/site-packages (from pydantic!=1.8,!=1.8.1,!=2.0.0,!=2.0.1,!=2.1.0,<3.0.0,>=1.7.4->fastapi) (2.33.2)\n",
      "Requirement already satisfied: typing-inspection>=0.4.0 in /home/nishan/workspaces/myenv/lib/python3.12/site-packages (from pydantic!=1.8,!=1.8.1,!=2.0.0,!=2.0.1,!=2.1.0,<3.0.0,>=1.7.4->fastapi) (0.4.1)\n",
      "Requirement already satisfied: anyio<5,>=3.6.2 in /home/nishan/workspaces/myenv/lib/python3.12/site-packages (from starlette<0.48.0,>=0.40.0->fastapi) (4.10.0)\n",
      "Requirement already satisfied: idna>=2.8 in /home/nishan/workspaces/myenv/lib/python3.12/site-packages (from anyio<5,>=3.6.2->starlette<0.48.0,>=0.40.0->fastapi) (3.10)\n",
      "Requirement already satisfied: sniffio>=1.1 in /home/nishan/workspaces/myenv/lib/python3.12/site-packages (from anyio<5,>=3.6.2->starlette<0.48.0,>=0.40.0->fastapi) (1.3.1)\n",
      "Downloading fastapi-0.116.1-py3-none-any.whl (95 kB)\n",
      "\u001b[2K   \u001b[38;2;114;156;31m━━━━━━━━━━━━━━━━━━━━━━━━━━━━━━━━━━━━━━━━\u001b[0m \u001b[32m95.6/95.6 kB\u001b[0m \u001b[31m1.5 MB/s\u001b[0m eta \u001b[36m0:00:00\u001b[0m[31m2.5 MB/s\u001b[0m eta \u001b[36m0:00:01\u001b[0m\n",
      "\u001b[?25hDownloading uvicorn-0.35.0-py3-none-any.whl (66 kB)\n",
      "\u001b[2K   \u001b[38;2;114;156;31m━━━━━━━━━━━━━━━━━━━━━━━━━━━━━━━━━━━━━━━━\u001b[0m \u001b[32m66.4/66.4 kB\u001b[0m \u001b[31m4.5 MB/s\u001b[0m eta \u001b[36m0:00:00\u001b[0m\n",
      "\u001b[?25hDownloading click-8.2.1-py3-none-any.whl (102 kB)\n",
      "\u001b[2K   \u001b[38;2;114;156;31m━━━━━━━━━━━━━━━━━━━━━━━━━━━━━━━━━━━━━━━━\u001b[0m \u001b[32m102.2/102.2 kB\u001b[0m \u001b[31m6.4 MB/s\u001b[0m eta \u001b[36m0:00:00\u001b[0m\n",
      "\u001b[?25hDownloading starlette-0.47.3-py3-none-any.whl (72 kB)\n",
      "\u001b[2K   \u001b[38;2;114;156;31m━━━━━━━━━━━━━━━━━━━━━━━━━━━━━━━━━━━━━━━━\u001b[0m \u001b[32m73.0/73.0 kB\u001b[0m \u001b[31m8.7 MB/s\u001b[0m eta \u001b[36m0:00:00\u001b[0m\n",
      "\u001b[?25hInstalling collected packages: click, uvicorn, starlette, fastapi\n",
      "Successfully installed click-8.2.1 fastapi-0.116.1 starlette-0.47.3 uvicorn-0.35.0\n",
      "Note: you may need to restart the kernel to use updated packages.\n"
     ]
    }
   ],
   "source": [
    "pip install fastapi uvicorn"
   ]
  },
  {
   "cell_type": "code",
   "execution_count": 2,
   "id": "9878820b-9e29-425e-9e6d-ccb6c1dc9207",
   "metadata": {},
   "outputs": [],
   "source": [
    "from fastapi import FastAPI\n",
    "from pydantic import BaseModel\n",
    "import time\n",
    "from typing import Optional"
   ]
  },
  {
   "cell_type": "code",
   "execution_count": 3,
   "id": "f7923e8e-5d45-4be0-88e1-2118af09447b",
   "metadata": {},
   "outputs": [],
   "source": [
    "# Create FastAPI app instance\n",
    "app = FastAPI()\n",
    "\n",
    "# Simple route to test performance\n",
    "@app.get(\"/\")\n",
    "async def read_root():\n",
    "    return {\"message\": \"Hello, World!\"}"
   ]
  },
  {
   "cell_type": "code",
   "execution_count": 4,
   "id": "3891708c-8487-44a0-b284-65d1a302fbf1",
   "metadata": {},
   "outputs": [],
   "source": [
    "# Define a POST route to test performance with some input\n",
    "class Item(BaseModel):\n",
    "    name: str\n",
    "    description: Optional[str] = None\n",
    "    price: float\n",
    "    tax: Optional[float] = None\n",
    "\n",
    "@app.post(\"/items/\")\n",
    "async def create_item(item: Item):\n",
    "    start_time = time.time()\n",
    "    # Simulating some processing work\n",
    "    result = {\n",
    "        \"name\": item.name,\n",
    "        \"description\": item.description,\n",
    "        \"price\": item.price,\n",
    "        \"tax\": item.tax,\n",
    "        \"total_price\": item.price + (item.tax or 0),\n",
    "    }\n",
    "    processing_time = time.time() - start_time\n",
    "    result[\"processing_time\"] = processing_time\n",
    "    return result\n",
    "\n",
    "# This route will simulate a high load to test performance\n",
    "@app.get(\"/simulate_load/{requests_count}\")\n",
    "async def simulate_load(requests_count: int):\n",
    "    start_time = time.time()\n",
    "    responses = []\n",
    "    for _ in range(requests_count):\n",
    "        # Simulate a simple task to put load on the server\n",
    "        responses.append({\"status\": \"processed\"})\n",
    "    total_time = time.time() - start_time\n",
    "    return {\"requests_processed\": requests_count, \"total_time\": total_time}"
   ]
  },
  {
   "cell_type": "code",
   "execution_count": 9,
   "id": "bedff0f0-776c-438c-b10b-7a47e682033e",
   "metadata": {},
   "outputs": [
    {
     "name": "stderr",
     "output_type": "stream",
     "text": [
      "INFO:     Will watch for changes in these directories: ['/home/nishan/workspaces/potomacuniv/comp712']\n",
      "INFO:     Uvicorn running on http://0.0.0.0:8000 (Press CTRL+C to quit)\n",
      "INFO:     Started reloader process [5660] using StatReload\n",
      "ERROR:    Error loading ASGI app. Could not import module \"app\".\n"
     ]
    }
   ],
   "source": [
    "import subprocess\n",
    "\n",
    "# Run the FastAPI app using Uvicorn in the background\n",
    "def run_uvicorn():\n",
    "    return subprocess.Popen([\"uvicorn\", \"app:app\", \"--reload\", \"--host\", \"0.0.0.0\", \"--port\", \"8000\"])\n",
    "\n",
    "# Start the server\n",
    "server_process = run_uvicorn()\n"
   ]
  },
  {
   "cell_type": "code",
   "execution_count": 8,
   "id": "822e26bf-1cda-4aba-afee-cabf0dcffc65",
   "metadata": {},
   "outputs": [
    {
     "name": "stderr",
     "output_type": "stream",
     "text": [
      "INFO:     Stopping reloader process [5621]\n"
     ]
    }
   ],
   "source": [
    "server_process.terminate()\n"
   ]
  },
  {
   "cell_type": "code",
   "execution_count": null,
   "id": "37de3582-6bbd-48f8-bf47-eea56e2448cd",
   "metadata": {},
   "outputs": [],
   "source": []
  }
 ],
 "metadata": {
  "kernelspec": {
   "display_name": "Python 3 (ipykernel)",
   "language": "python",
   "name": "python3"
  },
  "language_info": {
   "codemirror_mode": {
    "name": "ipython",
    "version": 3
   },
   "file_extension": ".py",
   "mimetype": "text/x-python",
   "name": "python",
   "nbconvert_exporter": "python",
   "pygments_lexer": "ipython3",
   "version": "3.12.3"
  }
 },
 "nbformat": 4,
 "nbformat_minor": 5
}
