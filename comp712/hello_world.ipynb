{
 "cells": [
  {
   "cell_type": "code",
   "execution_count": 1,
   "id": "63b0fb18-f1ac-46f7-bbb1-5ffca6087ae1",
   "metadata": {},
   "outputs": [
    {
     "name": "stdout",
     "output_type": "stream",
     "text": [
      "hello world\n"
     ]
    }
   ],
   "source": [
    "print(\"hello world\")"
   ]
  },
  {
   "cell_type": "code",
   "execution_count": 2,
   "id": "6a43d45d-f185-4836-a95c-8eb8c4f92c9c",
   "metadata": {},
   "outputs": [
    {
     "name": "stdout",
     "output_type": "stream",
     "text": [
      "hello Jupyter, this is my first program\n"
     ]
    }
   ],
   "source": [
    "print(\"hello Jupyter, this is my first program\")"
   ]
  },
  {
   "cell_type": "code",
   "execution_count": 3,
   "id": "16880885-3aa5-47e9-ba16-8a83fcc0f6c5",
   "metadata": {},
   "outputs": [],
   "source": [
    "# Function for addition\n",
    "def add(x, y):\n",
    "    return x + y\n",
    "\n",
    "# Function for subtraction\n",
    "def subtract(x, y):\n",
    "    return x - y\n",
    "\n",
    "# Function for multiplication\n",
    "def multiply(x, y):\n",
    "    return x * y\n",
    "\n",
    "# Function for division\n",
    "def divide(x, y):\n",
    "    if y != 0:\n",
    "        return x / y\n",
    "    else:\n",
    "        return \"Error! Division by zero.\""
   ]
  },
  {
   "cell_type": "code",
   "execution_count": 4,
   "id": "bf087029-f8e9-4982-abf1-71d4b38778c1",
   "metadata": {},
   "outputs": [
    {
     "name": "stdout",
     "output_type": "stream",
     "text": [
      "Hello World, This is a simple calculator\n",
      "Select operation:\n",
      "1. Add\n",
      "2. Subtract\n",
      "3. Multiply\n",
      "4. Divide\n"
     ]
    },
    {
     "name": "stdin",
     "output_type": "stream",
     "text": [
      "Enter choice (1/2/3/4):  2\n",
      "Enter first number:  200\n",
      "Enter second number:  10\n"
     ]
    }
   ],
   "source": [
    "# Main program\n",
    "print(\"Hello World, This is a simple calculator\")\n",
    "print(\"Select operation:\")\n",
    "print(\"1. Add\")\n",
    "print(\"2. Subtract\")\n",
    "print(\"3. Multiply\")\n",
    "print(\"4. Divide\")\n",
    "\n",
    "# Get user input for operation\n",
    "choice = input(\"Enter choice (1/2/3/4): \")\n",
    "\n",
    "# Get user input for numbers\n",
    "num1 = float(input(\"Enter first number: \"))\n",
    "num2 = float(input(\"Enter second number: \"))"
   ]
  },
  {
   "cell_type": "code",
   "execution_count": 5,
   "id": "de009b6d-5bf0-4d72-b76f-cba5bd14033e",
   "metadata": {},
   "outputs": [
    {
     "name": "stdout",
     "output_type": "stream",
     "text": [
      "The result is: 190.0\n"
     ]
    }
   ],
   "source": [
    "\n",
    "# Perform the operation\n",
    "if choice == '1':\n",
    "    print(f\"The result is: {add(num1, num2)}\")\n",
    "elif choice == '2':\n",
    "    print(f\"The result is: {subtract(num1, num2)}\")\n",
    "elif choice == '3':\n",
    "    print(f\"The result is: {multiply(num1, num2)}\")\n",
    "elif choice == '4':\n",
    "    print(f\"The result is: {divide(num1, num2)}\")\n",
    "else:\n",
    "    print(\"Invalid input! Please choose a valid operation.\")\n"
   ]
  },
  {
   "cell_type": "code",
   "execution_count": null,
   "id": "24e404c9-42f6-4ca5-9dcc-99dca208b3d4",
   "metadata": {},
   "outputs": [],
   "source": []
  }
 ],
 "metadata": {
  "kernelspec": {
   "display_name": "Python 3 (ipykernel)",
   "language": "python",
   "name": "python3"
  },
  "language_info": {
   "codemirror_mode": {
    "name": "ipython",
    "version": 3
   },
   "file_extension": ".py",
   "mimetype": "text/x-python",
   "name": "python",
   "nbconvert_exporter": "python",
   "pygments_lexer": "ipython3",
   "version": "3.12.3"
  }
 },
 "nbformat": 4,
 "nbformat_minor": 5
}
